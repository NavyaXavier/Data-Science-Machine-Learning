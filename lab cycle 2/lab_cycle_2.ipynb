{
  "nbformat": 4,
  "nbformat_minor": 0,
  "metadata": {
    "colab": {
      "name": "lab cycle 2.ipynb",
      "provenance": [],
      "collapsed_sections": []
    },
    "kernelspec": {
      "name": "python3",
      "display_name": "Python 3"
    },
    "language_info": {
      "name": "python"
    }
  },
  "cells": [
    {
      "cell_type": "code",
      "metadata": {
        "colab": {
          "base_uri": "https://localhost:8080/"
        },
        "id": "wHzjFVwwWGYz",
        "outputId": "523782bc-1ccd-4ba6-b05f-dd6906ad4cbc"
      },
      "source": [
        "import numpy as np\n",
        "array3D = np.array([[[ 0.5,  1.2,  2.3],\n",
        "                     [ 3.0,  4.5,  5.3],\n",
        "                     [ 6.0,  7.7,  8.1]],\n",
        "  \n",
        "                    [[ 9.5, 10.0, 11.2],\n",
        "                     [12.7, 13.1, 14.5],\n",
        "                     [15.6, 16.1, 17.7]],\n",
        " \n",
        "                    [[18.7, 19.1, 20.6],\n",
        "                     [21.7, 22.4, 23.5],\n",
        "                     [24.9, 25.5, 26.7]]])\n",
        " \n",
        "print(array3D)\n",
        "print(\"shape :\" +str(array3D.shape))"
      ],
      "execution_count": 1,
      "outputs": [
        {
          "output_type": "stream",
          "name": "stdout",
          "text": [
            "[[[ 0.5  1.2  2.3]\n",
            "  [ 3.   4.5  5.3]\n",
            "  [ 6.   7.7  8.1]]\n",
            "\n",
            " [[ 9.5 10.  11.2]\n",
            "  [12.7 13.1 14.5]\n",
            "  [15.6 16.1 17.7]]\n",
            "\n",
            " [[18.7 19.1 20.6]\n",
            "  [21.7 22.4 23.5]\n",
            "  [24.9 25.5 26.7]]]\n",
            "shape :(3, 3, 3)\n"
          ]
        }
      ]
    }
  ]
}