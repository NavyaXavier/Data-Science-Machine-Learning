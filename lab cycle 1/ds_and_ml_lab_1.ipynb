{
  "nbformat": 4,
  "nbformat_minor": 0,
  "metadata": {
    "colab": {
      "name": "ds and ml lab 1.ipynb",
      "provenance": [],
      "collapsed_sections": []
    },
    "kernelspec": {
      "name": "python3",
      "display_name": "Python 3"
    },
    "language_info": {
      "name": "python"
    }
  },
  "cells": [
    {
      "cell_type": "code",
      "metadata": {
        "colab": {
          "base_uri": "https://localhost:8080/"
        },
        "id": "gl5V7CRmJ7cT",
        "outputId": "acebbcd2-cb5c-4581-ea37-5be3f823290e"
      },
      "source": [
        "a=int(input(\"enter lower limit\"))\n",
        "b=int(input(\"enter upper limit\"))\n",
        "for num in range(a,b+1):\n",
        "  if num > 1:\n",
        "    for i in range(2,num):\n",
        "      if(num % i == 0):\n",
        "          print(num)\n",
        "          break\n",
        "\n"
      ],
      "execution_count": null,
      "outputs": [
        {
          "output_type": "stream",
          "name": "stdout",
          "text": [
            "enter lower limit10\n",
            "enter upper limit30\n",
            "10\n",
            "12\n",
            "14\n",
            "15\n",
            "16\n",
            "18\n",
            "20\n",
            "21\n",
            "22\n",
            "24\n",
            "25\n",
            "26\n",
            "27\n",
            "28\n",
            "30\n"
          ]
        }
      ]
    },
    {
      "cell_type": "code",
      "metadata": {
        "colab": {
          "base_uri": "https://localhost:8080/"
        },
        "id": "19Er2F-vLvIk",
        "outputId": "e1835720-52da-4921-9be1-265ec7a7cf17"
      },
      "source": [
        "a=int(input(\"enter the first side: \"))\n",
        "b=int(input(\"enter the second side: \"))\n",
        "c=int(input(\"enter the third side: \"))\n",
        "if a==b and b==c:\n",
        "    print(\"equilateral triangle\")\n",
        "elif a==b or b==c or c==a:\n",
        "    print(\"isosceles triangle\")\n",
        "else:\n",
        "    print(\"scalene triangle\")"
      ],
      "execution_count": null,
      "outputs": [
        {
          "output_type": "stream",
          "name": "stdout",
          "text": [
            "enter the first side: 4\n",
            "enter the second side: 3\n",
            "enter the third side: 2\n",
            "scalene triangle\n"
          ]
        }
      ]
    },
    {
      "cell_type": "code",
      "metadata": {
        "colab": {
          "base_uri": "https://localhost:8080/"
        },
        "id": "zU0jNZhlNQUd",
        "outputId": "6b51559c-6eab-4ba2-caf7-9c905c1a391b"
      },
      "source": [
        "n=int(input(\"how many no.of terms: \"))\n",
        "n1,n2=0,1\n",
        "i=0\n",
        "if n < 0:\n",
        "  print(\"enter positive number : \")\n",
        "elif n == 1:\n",
        "     print(\"fibonacci sequence:\" , n1)\n",
        "else:\n",
        "    print(\"fibonacci sequence\")     \n",
        "    while i < n:\n",
        "        print(n1)\n",
        "        nth = n1 + n2\n",
        "\n",
        "        n1 = n2\n",
        "        n2  = nth\n",
        "        i += 1"
      ],
      "execution_count": null,
      "outputs": [
        {
          "output_type": "stream",
          "name": "stdout",
          "text": [
            "how many no.of terms: 5\n",
            "fibonacci sequence\n",
            "0\n",
            "1\n",
            "1\n",
            "2\n",
            "3\n"
          ]
        }
      ]
    },
    {
      "cell_type": "code",
      "metadata": {
        "colab": {
          "base_uri": "https://localhost:8080/"
        },
        "id": "ygq5Up5VPwoD",
        "outputId": "73b4005d-4b22-427d-9f3c-ab1a78f88aea"
      },
      "source": [
        "lower = 1\n",
        "upper = 1000\n",
        "\n",
        "for num in range(lower, upper + 1):\n",
        "\n",
        "   \n",
        "   order = len(str(num))\n",
        "   sum = 0\n",
        "\n",
        "   temp = num\n",
        "   while temp > 0:\n",
        "       digit = temp % 10\n",
        "       sum += digit ** order\n",
        "       temp //= 10\n",
        "\n",
        "   if num == sum:\n",
        "       print(num)"
      ],
      "execution_count": null,
      "outputs": [
        {
          "output_type": "stream",
          "name": "stdout",
          "text": [
            "1\n",
            "2\n",
            "3\n",
            "4\n",
            "5\n",
            "6\n",
            "7\n",
            "8\n",
            "9\n",
            "153\n",
            "370\n",
            "371\n",
            "407\n"
          ]
        }
      ]
    },
    {
      "cell_type": "code",
      "metadata": {
        "colab": {
          "base_uri": "https://localhost:8080/"
        },
        "id": "hFN0AdRJQdeU",
        "outputId": "c9db153b-5005-4c69-bdc0-576f4bd75f64"
      },
      "source": [
        "lt1 = [5, 10, 15, 20, 25, 30]  \n",
        "lt2 = [2, 4, 6, 8, 10, 12]    \n",
        "print ( \" Python Original list 1: \" + str (lt1))  \n",
        "print ( \"Python Original list 2: \" + str (lt2))    \n",
        "res_lt = []   \n",
        "for x in range (0, len (lt1)):  \n",
        "    res_lt.append( lt1[x] + lt2[x])  \n",
        "print ( \" Addition of the list lt1 and lt2 is: \" + str (res_lt))"
      ],
      "execution_count": null,
      "outputs": [
        {
          "output_type": "stream",
          "name": "stdout",
          "text": [
            " Python Original list 1: [5, 10, 15, 20, 25, 30]\n",
            "Python Original list 2: [2, 4, 6, 8, 10, 12]\n",
            " Addition of the list lt1 and lt2 is: [7, 14, 21, 28, 35, 42]\n"
          ]
        }
      ]
    },
    {
      "cell_type": "code",
      "metadata": {
        "colab": {
          "base_uri": "https://localhost:8080/"
        },
        "id": "yxFZAHczR2xT",
        "outputId": "99894ecf-0c5f-42be-ad66-39cc69d7d6cf"
      },
      "source": [
        "a = [35, 10, 31, 11, 26]    \n",
        "print(\"Before sorting array elements are - \")  \n",
        "for i in a:     \n",
        "    print(i, end = \" \")    \n",
        "for i in range(0,len(a)):    \n",
        "    for j in range(i+1,len(a)):    \n",
        "        if a[j]<a[i]:    \n",
        "            temp = a[j]    \n",
        "            a[j]=a[i]    \n",
        "            a[i]=temp    \n",
        "print(\"\\nAfter sorting array elements are - \")    \n",
        "for i in a:     \n",
        "    print(i, end = \" \")    "
      ],
      "execution_count": null,
      "outputs": [
        {
          "output_type": "stream",
          "name": "stdout",
          "text": [
            "Before sorting array elements are - \n",
            "35 10 31 11 26 \n",
            "After sorting array elements are - \n",
            "10 11 26 31 35 "
          ]
        }
      ]
    },
    {
      "cell_type": "code",
      "metadata": {
        "colab": {
          "base_uri": "https://localhost:8080/"
        },
        "id": "6j7buqsMACyn",
        "outputId": "7b213eb5-b3ca-4c39-8868-2ac3ee950727"
      },
      "source": [
        "rows = int(input(\"Enter the Number of rows : \" ))\n",
        "column = int(input(\"Enter the Number of Columns: \"))\n",
        "\n",
        "print(\"Enter the elements of First Matrix:\")\n",
        "matrix_a= [[int(input()) for i in range(column)] for i in range(rows)]\n",
        "print(\"First Matrix is: \")\n",
        "for n in matrix_a:\n",
        "    print(n)\n",
        "\n",
        "print(\"Enter the elements of Second Matrix:\")\n",
        "matrix_b= [[int(input()) for i in range(column)] for i in range(rows)]\n",
        "print(\"second matrix is: \")\n",
        "for n in matrix_b:\n",
        "    print(n)\n",
        "    \n",
        "result=[[0 for i in range(column)] for i in range(rows)]\n",
        "\n",
        "for i in range(rows):\n",
        "    for j in range(column):\n",
        "        result[i][j] = matrix_a[i][j]+matrix_b[i][j]\n",
        "\n",
        "print(\"The Sum of Above two Matrices is : \")\n",
        "for r in result:\n",
        "    print(r)\n"
      ],
      "execution_count": null,
      "outputs": [
        {
          "output_type": "stream",
          "name": "stdout",
          "text": [
            "Enter the Number of rows : 2\n",
            "Enter the Number of Columns: 2\n",
            "Enter the elements of First Matrix:\n",
            "1\n",
            "2\n",
            "3\n",
            "4\n",
            "First Matrix is: \n",
            "[1, 2]\n",
            "[3, 4]\n",
            "Enter the elements of Second Matrix:\n",
            "2\n",
            "2\n",
            "5\n",
            "6\n",
            "second matrix is: \n",
            "[2, 2]\n",
            "[5, 6]\n",
            "The Sum of Above two Matrices is : \n",
            "[3, 4]\n",
            "[8, 10]\n"
          ]
        }
      ]
    },
    {
      "cell_type": "code",
      "metadata": {
        "colab": {
          "base_uri": "https://localhost:8080/"
        },
        "id": "oVfQ9AMFTr2q",
        "outputId": "09bf46a6-dc16-4f06-9867-9d04f568e588"
      },
      "source": [
        "vowels = 'aeiou'\n",
        "user_input = input(\"Enter a string: \")\n",
        "string = user_input.casefold()\n",
        "count_vowels = {}.fromkeys(vowels, 0)\n",
        "for x in string:\n",
        "    if x in count_vowels:\n",
        "        count_vowels[x] += 1\n",
        " \n",
        "print(\"Total number of vowels - \",count_vowels)"
      ],
      "execution_count": null,
      "outputs": [
        {
          "output_type": "stream",
          "name": "stdout",
          "text": [
            "Enter a string: navya\n",
            "Total number of vowels -  {'a': 2, 'e': 0, 'i': 0, 'o': 0, 'u': 0}\n"
          ]
        }
      ]
    },
    {
      "cell_type": "code",
      "metadata": {
        "id": "ah0Uo-cbUG3p",
        "colab": {
          "base_uri": "https://localhost:8080/"
        },
        "outputId": "3afd9db1-aa55-4326-8695-50434e02ba54"
      },
      "source": [
        "n = int(input(\"Enter any number: \"))\n",
        "sum1 = 0\n",
        "for i in range(1, n):\n",
        "    if(n % i == 0):\n",
        "        sum1 = sum1 + i\n",
        "if (sum1 == n):\n",
        "    print(\"The number is a Perfect number!\")\n",
        "else:\n",
        "    print(\"The number is not a Perfect number!\")"
      ],
      "execution_count": null,
      "outputs": [
        {
          "output_type": "stream",
          "name": "stdout",
          "text": [
            "Enter any number: 28\n",
            "The number is a Perfect number!\n"
          ]
        }
      ]
    },
    {
      "cell_type": "code",
      "metadata": {
        "colab": {
          "base_uri": "https://localhost:8080/"
        },
        "id": "EVci7VMna8kO",
        "outputId": "cfb8e511-7734-4f19-eab0-d2c67242a140"
      },
      "source": [
        "num1= int(input(\"Please enter the first number: \")) \n",
        "num2= int(input(\"Please enter the second number: \")) \n",
        "mn=min(num1, num2) \n",
        "for i in range(1, mn+1): \n",
        " if num1%i==0 and num2%i==0: \n",
        "   hcf = i \n",
        "if hcf == 1: \n",
        " print(\"Yes! They are Co-Prime.\") \n",
        "else: \n",
        " print(\"Sorry! They are not Co-Prime.\") \n"
      ],
      "execution_count": null,
      "outputs": [
        {
          "output_type": "stream",
          "name": "stdout",
          "text": [
            "Please enter the first number: 5\n",
            "Please enter the second number: 17\n",
            "Yes! They are Co-Prime.\n"
          ]
        }
      ]
    },
    {
      "cell_type": "code",
      "metadata": {
        "id": "oX76A3mocxcF",
        "colab": {
          "base_uri": "https://localhost:8080/"
        },
        "outputId": "01277052-6b23-42c1-9694-dcf3c57e457b"
      },
      "source": [
        "a=int(input(\"enter the coefficient of a: \"))\n",
        "b=int(input(\"enter the coefficient of b: \"))\n",
        "c=int(input(\"enter the coefficient of c: \"))\n",
        "if a == 0:\n",
        "    print(round(-c / b, 2))\n",
        "else:\n",
        "    d = b * b - 4 * a * c\n",
        "    if d < 0:\n",
        "        print('no roots')\n",
        "    elif d == 0:\n",
        "        print(round(-b / 2 / a, 2))\n",
        "    else:\n",
        "        print(round((-b - d ** 0.5) / 2 / a, 2))\n",
        "        print(round((-b + d ** 0.5) / 2 / a, 2))"
      ],
      "execution_count": null,
      "outputs": [
        {
          "output_type": "stream",
          "name": "stdout",
          "text": [
            "enter the coefficient of a: 1\n",
            "enter the coefficient of b: -7\n",
            "enter the coefficient of c: 12\n",
            "3.0\n",
            "4.0\n"
          ]
        }
      ]
    },
    {
      "cell_type": "code",
      "metadata": {
        "id": "m7lkwR2IBwVe",
        "colab": {
          "base_uri": "https://localhost:8080/"
        },
        "outputId": "4ed9a142-37b3-4971-9cee-897400f51e45"
      },
      "source": [
        "def repeat_times(n):\n",
        "  s = 0\n",
        "  n_str = str(n)\n",
        "  while (n > 0):\n",
        "    n -= sum([int(i) for i in list(n_str)])\n",
        "    n_str = list(str(n))\n",
        "    s += 1\n",
        "  return s\n",
        "print(repeat_times(9))\n",
        "print(repeat_times(21))"
      ],
      "execution_count": 1,
      "outputs": [
        {
          "output_type": "stream",
          "name": "stdout",
          "text": [
            "1\n",
            "3\n"
          ]
        }
      ]
    },
    {
      "cell_type": "code",
      "metadata": {
        "colab": {
          "base_uri": "https://localhost:8080/"
        },
        "id": "jz1I-yo6S0Sd",
        "outputId": "ca4a45ad-7e95-4bad-d8f8-c07b4f9ee080"
      },
      "source": [
        "def absent_digits(n):\n",
        "  all_nums = set([0,1,2,3,4,5,6,7,8,9])\n",
        "  n = set([int(i) for i in n])\n",
        "  n = n.symmetric_difference(all_nums)\n",
        "  n = sorted(n)\n",
        "  return n\n",
        "print(absent_digits([9,5,2,6,0,1,4,6,8,4]))  "
      ],
      "execution_count": 2,
      "outputs": [
        {
          "output_type": "stream",
          "name": "stdout",
          "text": [
            "[3, 7]\n"
          ]
        }
      ]
    },
    {
      "cell_type": "code",
      "metadata": {
        "colab": {
          "base_uri": "https://localhost:8080/"
        },
        "id": "4XQmo3wKTEOv",
        "outputId": "664b52ab-c8f7-4d01-f194-f62db4d061b2"
      },
      "source": [
        "list = [\"Sun\",\"Mon\",\"Tue\",\"Wed\",\"Thu\",\"Fri\",\"Sat\"]\n",
        "print(type(list))\n",
        "print(list)\n",
        "tuple = (\"Sun\",\"Mon\",\"Tue\",\"Wed\",\"Thu\",\"Fri\",\"Sat\")\n",
        "print(type(tuple))\n",
        "print(tuple)\n",
        "set = {\"Sun\",\"Mon\",\"Tue\",\"Wed\",\"Thu\",\"Fri\",\"Sat\"}\n",
        "print(type(set))\n",
        "print(set)\n",
        "dict = {\n",
        "    \"d1\" : \"Sun\",\n",
        "    \"d2\" : \"Mon\",\n",
        "    \"d3\" : \"Tue\",\n",
        "    \"d4\" : \"Wed\",\n",
        "    \"d5\" : \"Thu\",\n",
        "    \"d6\" : \"Fri\",\n",
        "    \"d7\" : \"Sat\"\n",
        "}\n",
        "print(type(dict))\n",
        "print(dict)"
      ],
      "execution_count": 3,
      "outputs": [
        {
          "output_type": "stream",
          "name": "stdout",
          "text": [
            "<class 'list'>\n",
            "['Sun', 'Mon', 'Tue', 'Wed', 'Thu', 'Fri', 'Sat']\n",
            "<class 'tuple'>\n",
            "('Sun', 'Mon', 'Tue', 'Wed', 'Thu', 'Fri', 'Sat')\n",
            "<class 'set'>\n",
            "{'Fri', 'Wed', 'Tue', 'Thu', 'Sun', 'Sat', 'Mon'}\n",
            "<class 'dict'>\n",
            "{'d1': 'Sun', 'd2': 'Mon', 'd3': 'Tue', 'd4': 'Wed', 'd5': 'Thu', 'd6': 'Fri', 'd7': 'Sat'}\n"
          ]
        }
      ]
    }
  ]
}