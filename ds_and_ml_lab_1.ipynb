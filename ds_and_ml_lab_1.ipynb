{
  "nbformat": 4,
  "nbformat_minor": 0,
  "metadata": {
    "colab": {
      "name": "ds and ml lab 1.ipynb",
      "provenance": [],
      "collapsed_sections": []
    },
    "kernelspec": {
      "name": "python3",
      "display_name": "Python 3"
    },
    "language_info": {
      "name": "python"
    }
  },
  "cells": [
    {
      "cell_type": "code",
      "metadata": {
        "colab": {
          "base_uri": "https://localhost:8080/"
        },
        "id": "gl5V7CRmJ7cT",
        "outputId": "acebbcd2-cb5c-4581-ea37-5be3f823290e"
      },
      "source": [
        "a=int(input(\"enter lower limit\"))\n",
        "b=int(input(\"enter upper limit\"))\n",
        "for num in range(a,b+1):\n",
        "  if num > 1:\n",
        "    for i in range(2,num):\n",
        "      if(num % i == 0):\n",
        "          print(num)\n",
        "          break\n",
        "\n"
      ],
      "execution_count": 12,
      "outputs": [
        {
          "output_type": "stream",
          "name": "stdout",
          "text": [
            "enter lower limit10\n",
            "enter upper limit30\n",
            "10\n",
            "12\n",
            "14\n",
            "15\n",
            "16\n",
            "18\n",
            "20\n",
            "21\n",
            "22\n",
            "24\n",
            "25\n",
            "26\n",
            "27\n",
            "28\n",
            "30\n"
          ]
        }
      ]
    },
    {
      "cell_type": "code",
      "metadata": {
        "colab": {
          "base_uri": "https://localhost:8080/"
        },
        "id": "19Er2F-vLvIk",
        "outputId": "e1835720-52da-4921-9be1-265ec7a7cf17"
      },
      "source": [
        "a=int(input(\"enter the first side: \"))\n",
        "b=int(input(\"enter the second side: \"))\n",
        "c=int(input(\"enter the third side: \"))\n",
        "if a==b and b==c:\n",
        "    print(\"equilateral triangle\")\n",
        "elif a==b or b==c or c==a:\n",
        "    print(\"isosceles triangle\")\n",
        "else:\n",
        "    print(\"scalene triangle\")"
      ],
      "execution_count": 17,
      "outputs": [
        {
          "output_type": "stream",
          "name": "stdout",
          "text": [
            "enter the first side: 4\n",
            "enter the second side: 3\n",
            "enter the third side: 2\n",
            "scalene triangle\n"
          ]
        }
      ]
    },
    {
      "cell_type": "code",
      "metadata": {
        "colab": {
          "base_uri": "https://localhost:8080/"
        },
        "id": "zU0jNZhlNQUd",
        "outputId": "6b51559c-6eab-4ba2-caf7-9c905c1a391b"
      },
      "source": [
        "n=int(input(\"how many no.of terms: \"))\n",
        "n1,n2=0,1\n",
        "i=0\n",
        "if n < 0:\n",
        "  print(\"enter positive number : \")\n",
        "elif n == 1:\n",
        "     print(\"fibonacci sequence:\" , n1)\n",
        "else:\n",
        "    print(\"fibonacci sequence\")     \n",
        "    while i < n:\n",
        "        print(n1)\n",
        "        nth = n1 + n2\n",
        "\n",
        "        n1 = n2\n",
        "        n2  = nth\n",
        "        i += 1"
      ],
      "execution_count": 20,
      "outputs": [
        {
          "output_type": "stream",
          "name": "stdout",
          "text": [
            "how many no.of terms: 5\n",
            "fibonacci sequence\n",
            "0\n",
            "1\n",
            "1\n",
            "2\n",
            "3\n"
          ]
        }
      ]
    },
    {
      "cell_type": "code",
      "metadata": {
        "colab": {
          "base_uri": "https://localhost:8080/"
        },
        "id": "ygq5Up5VPwoD",
        "outputId": "cf00e231-3664-4869-952e-9e5483c25939"
      },
      "source": [
        "lower = 1\n",
        "upper = 1000\n",
        "\n",
        "for num in range(lower, upper + 1):\n",
        "    order = len(str(num))\n",
        "    sum = 0\n",
        "    temp = num\n",
        "    while temp > 0:\n",
        "       digit = temp % 10\n",
        "       sum += digit ** order\n",
        "       temp //= 10\n",
        "\n",
        "    if num == sum:\n",
        "       print(num)"
      ],
      "execution_count": 27,
      "outputs": [
        {
          "output_type": "stream",
          "name": "stdout",
          "text": [
            "1\n",
            "2\n",
            "3\n",
            "4\n",
            "5\n",
            "6\n",
            "7\n",
            "8\n",
            "9\n",
            "153\n",
            "370\n",
            "371\n",
            "407\n"
          ]
        }
      ]
    },
    {
      "cell_type": "code",
      "metadata": {
        "colab": {
          "base_uri": "https://localhost:8080/"
        },
        "id": "hFN0AdRJQdeU",
        "outputId": "c9db153b-5005-4c69-bdc0-576f4bd75f64"
      },
      "source": [
        "lt1 = [5, 10, 15, 20, 25, 30]  \n",
        "lt2 = [2, 4, 6, 8, 10, 12]    \n",
        "print ( \" Python Original list 1: \" + str (lt1))  \n",
        "print ( \"Python Original list 2: \" + str (lt2))    \n",
        "res_lt = []   \n",
        "for x in range (0, len (lt1)):  \n",
        "    res_lt.append( lt1[x] + lt2[x])  \n",
        "print ( \" Addition of the list lt1 and lt2 is: \" + str (res_lt))"
      ],
      "execution_count": 28,
      "outputs": [
        {
          "output_type": "stream",
          "name": "stdout",
          "text": [
            " Python Original list 1: [5, 10, 15, 20, 25, 30]\n",
            "Python Original list 2: [2, 4, 6, 8, 10, 12]\n",
            " Addition of the list lt1 and lt2 is: [7, 14, 21, 28, 35, 42]\n"
          ]
        }
      ]
    },
    {
      "cell_type": "code",
      "metadata": {
        "colab": {
          "base_uri": "https://localhost:8080/"
        },
        "id": "yxFZAHczR2xT",
        "outputId": "99894ecf-0c5f-42be-ad66-39cc69d7d6cf"
      },
      "source": [
        "a = [35, 10, 31, 11, 26]    \n",
        "print(\"Before sorting array elements are - \")  \n",
        "for i in a:     \n",
        "    print(i, end = \" \")    \n",
        "for i in range(0,len(a)):    \n",
        "    for j in range(i+1,len(a)):    \n",
        "        if a[j]<a[i]:    \n",
        "            temp = a[j]    \n",
        "            a[j]=a[i]    \n",
        "            a[i]=temp    \n",
        "print(\"\\nAfter sorting array elements are - \")    \n",
        "for i in a:     \n",
        "    print(i, end = \" \")    "
      ],
      "execution_count": 29,
      "outputs": [
        {
          "output_type": "stream",
          "name": "stdout",
          "text": [
            "Before sorting array elements are - \n",
            "35 10 31 11 26 \n",
            "After sorting array elements are - \n",
            "10 11 26 31 35 "
          ]
        }
      ]
    },
    {
      "cell_type": "code",
      "metadata": {
        "colab": {
          "base_uri": "https://localhost:8080/"
        },
        "id": "jsZ0NvonTDYJ",
        "outputId": "dea8c3fb-a9aa-4a31-dbc8-5e04eb6e72cc"
      },
      "source": [
        "X = [[1, 2, 3],\n",
        "     [4, 5, 6],\n",
        "     [7, 8, 9]]\n",
        "\n",
        "Y = [[9, 8, 7],\n",
        "     [6, 5, 4],\n",
        "     [3, 2, 1]]\n",
        "\n",
        "result = [[0, 0, 0],\n",
        "          [0, 0, 0],\n",
        "          [0, 0, 0]]\n",
        "for i in range(len(X)):\n",
        "    for j in range(len(X[0])):\n",
        "        result[i][j] = X[i][j] + Y[i][j]\n",
        "\n",
        "for r in result:\n",
        "    print(r)"
      ],
      "execution_count": 30,
      "outputs": [
        {
          "output_type": "stream",
          "name": "stdout",
          "text": [
            "[10, 10, 10]\n",
            "[10, 10, 10]\n",
            "[10, 10, 10]\n"
          ]
        }
      ]
    },
    {
      "cell_type": "code",
      "metadata": {
        "colab": {
          "base_uri": "https://localhost:8080/"
        },
        "id": "oVfQ9AMFTr2q",
        "outputId": "09bf46a6-dc16-4f06-9867-9d04f568e588"
      },
      "source": [
        "vowels = 'aeiou'\n",
        "user_input = input(\"Enter a string: \")\n",
        "string = user_input.casefold()\n",
        "count_vowels = {}.fromkeys(vowels, 0)\n",
        "for x in string:\n",
        "    if x in count_vowels:\n",
        "        count_vowels[x] += 1\n",
        " \n",
        "print(\"Total number of vowels - \",count_vowels)"
      ],
      "execution_count": 31,
      "outputs": [
        {
          "output_type": "stream",
          "name": "stdout",
          "text": [
            "Enter a string: navya\n",
            "Total number of vowels -  {'a': 2, 'e': 0, 'i': 0, 'o': 0, 'u': 0}\n"
          ]
        }
      ]
    },
    {
      "cell_type": "code",
      "metadata": {
        "id": "ah0Uo-cbUG3p"
      },
      "source": [
        ""
      ],
      "execution_count": null,
      "outputs": []
    }
  ]
}